{
 "cells": [
  {
   "cell_type": "code",
   "execution_count": 1,
   "metadata": {},
   "outputs": [],
   "source": [
    "import numpy as np\n",
    "from sklearn.preprocessing import StandardScaler\n",
    "from sklearn.datasets import load_digits\n",
    "from sklearn.metrics import accuracy_score\n",
    "from skimage.metrics import structural_similarity as ssim\n",
    "from sklearn.linear_model import OrthogonalMatchingPursuit\n",
    "from sklearn.decomposition import MiniBatchDictionaryLearning\n",
    "from tqdm import tqdm\n",
    "import matplotlib.pyplot as plt\n",
    "import gym\n",
    "from gym import spaces\n",
    "from gym.utils import seeding\n",
    "from keras.models import Sequential\n",
    "from keras.layers import Dense, Activation, Flatten\n",
    "from keras.optimizers import Adam\n",
    "from rl.agents.dqn import DQNAgent\n",
    "from rl.policy import BoltzmannQPolicy\n",
    "from rl.memory import SequentialMemory\n"
   ]
  },
  {
   "cell_type": "code",
   "execution_count": 2,
   "metadata": {},
   "outputs": [
    {
     "name": "stdout",
     "output_type": "stream",
     "text": [
      "GPU is available\n"
     ]
    }
   ],
   "source": [
    "import tensorflow as tf\n",
    "\n",
    "# Check if TensorFlow can access the GPU\n",
    "gpus = tf.config.list_physical_devices('GPU')\n",
    "\n",
    "if gpus:\n",
    "    print(\"GPU is available\")\n",
    "else:\n",
    "    print(\"GPU is NOT available\")"
   ]
  },
  {
   "cell_type": "code",
   "execution_count": 3,
   "metadata": {},
   "outputs": [
    {
     "name": "stdout",
     "output_type": "stream",
     "text": [
      "(100, 64)\n"
     ]
    }
   ],
   "source": [
    "def learn_dictionary_from_digits():\n",
    "    \"\"\"\n",
    "    Load the digits dataset and learn an over-determined dictionary from it using MiniBatchDictionaryLearning.\n",
    "    \n",
    "    Returns:\n",
    "        dictionary: numpy array\n",
    "            The learned dictionary.\n",
    "        dict_learner: MiniBatchDictionaryLearning object\n",
    "            The trained dictionary learner.\n",
    "    \"\"\"\n",
    "    # Load the digits dataset\n",
    "    digits = load_digits()\n",
    "    images = digits.data\n",
    "    \n",
    "    # Set the number of components (atoms) for the dictionary to ensure it's over-determined\n",
    "    n_components = 100  # Greater than 64 (the dimensionality of the input data)\n",
    "    \n",
    "    # Use MiniBatchDictionaryLearning to learn a dictionary\n",
    "    dict_learner = MiniBatchDictionaryLearning(n_components=n_components, alpha=1, random_state=0, n_jobs=-1, transform_algorithm='omp',)\n",
    "    dictionary = dict_learner.fit(images).components_\n",
    "    \n",
    "    return dictionary, dict_learner\n",
    "\n",
    "# Execute the function to get the learned dictionary and the dictionary learner object\n",
    "dictionary, dict_learner = learn_dictionary_from_digits()\n",
    "print(dictionary.shape)\n"
   ]
  },
  {
   "cell_type": "code",
   "execution_count": 4,
   "metadata": {},
   "outputs": [],
   "source": [
    "def reconstruct_with_OMP(dictionary, images, dict_learner):\n",
    "    \"\"\"\n",
    "    Reconstruct the dataset using MiniBatchDictionaryLearning's transform method and a given dictionary.\n",
    "    \n",
    "    Args:\n",
    "        dictionary: numpy array\n",
    "            The learned dictionary.\n",
    "        images: numpy array\n",
    "            The dataset to be reconstructed.\n",
    "        dict_learner: MiniBatchDictionaryLearning object\n",
    "            The trained dictionary learner.\n",
    "    \n",
    "    Returns:\n",
    "        reconstructed: numpy array\n",
    "            The reconstructed dataset.\n",
    "    \"\"\"\n",
    "    # Get the sparse representation of the images using the dictionary learner\n",
    "    coefficients = dict_learner.transform(images)\n",
    "\n",
    "    # print(coefficients.shape)\n",
    "    dictionary = dictionary\n",
    "    \n",
    "    # Reconstruct the images from the coefficients and the dictionary\n",
    "    reconstructed = np.dot(coefficients, dictionary)\n",
    "    return reconstructed\n"
   ]
  },
  {
   "cell_type": "code",
   "execution_count": 5,
   "metadata": {},
   "outputs": [],
   "source": [
    "\n",
    "def average_ssim(original, reconstructed):\n",
    "    \"\"\"\n",
    "    Compute the average SSIM between the original and reconstructed datasets.\n",
    "    \n",
    "    Args:\n",
    "        original: numpy array\n",
    "            The original dataset.\n",
    "        reconstructed: numpy array\n",
    "            The reconstructed dataset.\n",
    "    \n",
    "    Returns:\n",
    "        avg_ssim: float\n",
    "            The average SSIM value.\n",
    "    \"\"\"\n",
    "    ssim_values = [ssim(original[i].reshape(8, 8), reconstructed[i].reshape(8, 8), data_range=16) for i in range(original.shape[0])]\n",
    "    return np.mean(ssim_values)\n"
   ]
  },
  {
   "cell_type": "code",
   "execution_count": 6,
   "metadata": {},
   "outputs": [],
   "source": [
    "\n",
    "# Load the dataset and dictionary\n",
    "digits = load_digits()\n",
    "images = digits.data\n",
    "dictionary, dict_learner = learn_dictionary_from_digits()\n"
   ]
  },
  {
   "cell_type": "markdown",
   "metadata": {},
   "source": [
    "# Test OMP"
   ]
  },
  {
   "cell_type": "code",
   "execution_count": 7,
   "metadata": {},
   "outputs": [
    {
     "name": "stdout",
     "output_type": "stream",
     "text": [
      "Average SSIM: 0.9530500921899188\n"
     ]
    }
   ],
   "source": [
    "\n",
    "# Reconstruct the dataset using OMP\n",
    "reconstructed_images = reconstruct_with_OMP(dictionary, images, dict_learner)\n",
    "\n",
    "# Evaluate the average SSIM\n",
    "avg_ssim_value = average_ssim(images, reconstructed_images)\n",
    "print(f\"Average SSIM: {avg_ssim_value}\")"
   ]
  },
  {
   "cell_type": "markdown",
   "metadata": {},
   "source": [
    "# NMP"
   ]
  },
  {
   "cell_type": "code",
   "execution_count": 8,
   "metadata": {},
   "outputs": [],
   "source": [
    "\n",
    "\n",
    "# Load the dataset and dictionary\n",
    "digits = load_digits()\n",
    "images = digits.data\n",
    "dictionary, dict_learner = learn_dictionary_from_digits()\n",
    "# Define the RL environment\n",
    "\n",
    "class OMPEnvironment(gym.Env):\n",
    "    \"\"\"\n",
    "    A Reinforcement Learning environment that implements Orthogonal Matching Pursuit (OMP) algorithm for sparse coding.\n",
    "    \n",
    "    Attributes:\n",
    "        dictionary (np.array): The dictionary matrix for sparse coding.\n",
    "        image (np.array): The input image data to be reconstructed.\n",
    "        num_atoms (int): The number of atoms in the dictionary.\n",
    "        observation_space (gym.spaces.Box): The observation space representing the selected atoms.\n",
    "        action_space (gym.spaces.Discrete): The action space (0 for OMP, 1 for alternative strategy).\n",
    "        residual (np.array): The current residual of the input image.\n",
    "        selected_indices (list): The indices of the selected atoms from the dictionary.\n",
    "        approximated_signals (list): The list of approximated signals at each step.\n",
    "    \"\"\"\n",
    "    def __init__(self, dictionary, y):\n",
    "        self.dictionary = dictionary\n",
    "        self.y = y\n",
    "        self.num_atoms = dictionary.shape[1]\n",
    "        self.observation_space = spaces.Box(low=0, high=1, shape=(self.num_atoms,))\n",
    "        self.residual = y\n",
    "        self.approximated_signals = []\n",
    "        self.action_space = spaces.Discrete(2)\n",
    "        self.seed()\n",
    "        self.reset()\n",
    "\n",
    "    def seed(self, seed=None):\n",
    "        self.np_random, seed = seeding.np_random(seed)\n",
    "        return [seed]\n",
    "\n",
    "    def reset(self):\n",
    "        self.residual = self.t.copy()\n",
    "        self.selected_indices = []\n",
    "        self.approximated_signals = []\n",
    "        return np.zeros(self.num_atoms)\n",
    "\n",
    "    def step(self, action):\n",
    "        if action == 0 or not self.selected_indices:  # OMP action or first atom selection\n",
    "            correlations = np.abs(np.dot(self.dictionary.T, self.residual))\n",
    "            for index in self.selected_indices:\n",
    "                correlations[index] = 0  # Zero out already selected atoms\n",
    "            selected_atom_index = np.argmax(correlations)\n",
    "            self.selected_indices.append(selected_atom_index)\n",
    "\n",
    "            # Create sub-dictionary with selected atoms\n",
    "            selected_atoms = self.dictionary[:, self.selected_indices]\n",
    "\n",
    "            # Solve the least squares problem to find the best coefficients\n",
    "            coefficients, _, _, _ = np.linalg.lstsq(selected_atoms, self.residual, rcond=None)\n",
    "\n",
    "            # Reconstruct the signal using the coefficients\n",
    "            approximated_signal = selected_atoms.dot(coefficients)\n",
    "\n",
    "        elif action == 1:  # New decision strategy\n",
    "            # Find the atom least correlated with the selected atoms\n",
    "            selected_atoms = self.dictionary[:, self.selected_indices]\n",
    "            correlations = np.abs(selected_atoms.T @ self.dictionary)\n",
    "            avg_correlations = np.mean(correlations, axis=0)\n",
    "            avg_correlations[self.selected_indices] = np.inf  # Exclude already selected\n",
    "            selected_atom_index = np.argmin(avg_correlations)\n",
    "\n",
    "            # Update selected indices\n",
    "            self.selected_indices.append(selected_atom_index)\n",
    "\n",
    "            # Solve the least squares problem to find the best coefficients\n",
    "            coefficients, _, _, _ = np.linalg.lstsq(selected_atoms, self.residual, rcond=None)\n",
    "\n",
    "            # Reconstruct the signal using the coefficients\n",
    "            approximated_signal = selected_atoms.dot(coefficients)\n",
    "\n",
    "\n",
    "        # Update residual and calculate reward\n",
    "        self.residual = self.residual - approximated_signal.flatten()\n",
    "        self.approximated_signals.append(approximated_signal.flatten())\n",
    "        done = np.allclose(self.residual, np.zeros_like(self.residual), atol=1e-3)\n",
    "        reward = -np.linalg.norm(self.residual)\n",
    "\n",
    "        # Prepare the observation\n",
    "        observation = np.zeros(self.num_atoms)\n",
    "        observation[self.selected_indices] = 1\n",
    "\n",
    "        return observation, reward, done, {}\n",
    "# Create the environment with an image\n",
    "env = OMPEnvironment(dictionary, images[0])\n",
    "    \n"
   ]
  },
  {
   "cell_type": "code",
   "execution_count": 9,
   "metadata": {},
   "outputs": [
    {
     "name": "stderr",
     "output_type": "stream",
     "text": [
      "C:\\Users\\Fin Amin\\AppData\\Roaming\\Python\\Python39\\site-packages\\keras\\optimizers\\optimizer_v2\\adam.py:110: UserWarning: The `lr` argument is deprecated, use `learning_rate` instead.\n",
      "  super(Adam, self).__init__(name, **kwargs)\n"
     ]
    },
    {
     "name": "stdout",
     "output_type": "stream",
     "text": [
      "Training for 10000 steps ...\n"
     ]
    },
    {
     "name": "stderr",
     "output_type": "stream",
     "text": [
      "C:\\Users\\Fin Amin\\AppData\\Roaming\\Python\\Python39\\site-packages\\keras\\engine\\training_v1.py:2067: UserWarning: `Model.state_updates` will be removed in a future version. This property should not be used in TensorFlow 2.0, as `updates` are applied automatically.\n",
      "  updates=self.state_updates,\n"
     ]
    },
    {
     "ename": "ValueError",
     "evalue": "shapes (100,) and (64,) not aligned: 100 (dim 0) != 64 (dim 0)",
     "output_type": "error",
     "traceback": [
      "\u001b[1;31m---------------------------------------------------------------------------\u001b[0m",
      "\u001b[1;31mValueError\u001b[0m                                Traceback (most recent call last)",
      "\u001b[1;32mc:\\Users\\Fin Amin\\Desktop\\DSSP\\neural_matched_pursuit.ipynb Cell 11\u001b[0m line \u001b[0;36m<cell line: 19>\u001b[1;34m()\u001b[0m\n\u001b[0;32m     <a href='vscode-notebook-cell:/c%3A/Users/Fin%20Amin/Desktop/DSSP/neural_matched_pursuit.ipynb#X13sZmlsZQ%3D%3D?line=16'>17</a>\u001b[0m env \u001b[39m=\u001b[39m OMPEnvironment(dictionary, images[\u001b[39m0\u001b[39m])\n\u001b[0;32m     <a href='vscode-notebook-cell:/c%3A/Users/Fin%20Amin/Desktop/DSSP/neural_matched_pursuit.ipynb#X13sZmlsZQ%3D%3D?line=17'>18</a>\u001b[0m agent \u001b[39m=\u001b[39m build_agent(env)\n\u001b[1;32m---> <a href='vscode-notebook-cell:/c%3A/Users/Fin%20Amin/Desktop/DSSP/neural_matched_pursuit.ipynb#X13sZmlsZQ%3D%3D?line=18'>19</a>\u001b[0m agent\u001b[39m.\u001b[39;49mfit(env, nb_steps\u001b[39m=\u001b[39;49m\u001b[39m10000\u001b[39;49m, visualize\u001b[39m=\u001b[39;49m\u001b[39mFalse\u001b[39;49;00m, verbose\u001b[39m=\u001b[39;49m\u001b[39m2\u001b[39;49m)\n\u001b[0;32m     <a href='vscode-notebook-cell:/c%3A/Users/Fin%20Amin/Desktop/DSSP/neural_matched_pursuit.ipynb#X13sZmlsZQ%3D%3D?line=20'>21</a>\u001b[0m \u001b[39m# Modify the OMP function to use the RL agent\u001b[39;00m\n\u001b[0;32m     <a href='vscode-notebook-cell:/c%3A/Users/Fin%20Amin/Desktop/DSSP/neural_matched_pursuit.ipynb#X13sZmlsZQ%3D%3D?line=21'>22</a>\u001b[0m \u001b[39mdef\u001b[39;00m \u001b[39morthogonal_matching_pursuit_rl\u001b[39m(dictionary, target_signal, sparsity, agent):\n",
      "File \u001b[1;32m~\\AppData\\Roaming\\Python\\Python39\\site-packages\\rl\\core.py:176\u001b[0m, in \u001b[0;36mAgent.fit\u001b[1;34m(self, env, nb_steps, action_repetition, callbacks, verbose, visualize, nb_max_start_steps, start_step_policy, log_interval, nb_max_episode_steps)\u001b[0m\n\u001b[0;32m    174\u001b[0m \u001b[39mfor\u001b[39;00m _ \u001b[39min\u001b[39;00m \u001b[39mrange\u001b[39m(action_repetition):\n\u001b[0;32m    175\u001b[0m     callbacks\u001b[39m.\u001b[39mon_action_begin(action)\n\u001b[1;32m--> 176\u001b[0m     observation, r, done, info \u001b[39m=\u001b[39m env\u001b[39m.\u001b[39;49mstep(action)\n\u001b[0;32m    177\u001b[0m     observation \u001b[39m=\u001b[39m deepcopy(observation)\n\u001b[0;32m    178\u001b[0m     \u001b[39mif\u001b[39;00m \u001b[39mself\u001b[39m\u001b[39m.\u001b[39mprocessor \u001b[39mis\u001b[39;00m \u001b[39mnot\u001b[39;00m \u001b[39mNone\u001b[39;00m:\n",
      "\u001b[1;32mc:\\Users\\Fin Amin\\Desktop\\DSSP\\neural_matched_pursuit.ipynb Cell 11\u001b[0m line \u001b[0;36mOMPEnvironment.step\u001b[1;34m(self, action)\u001b[0m\n\u001b[0;32m     <a href='vscode-notebook-cell:/c%3A/Users/Fin%20Amin/Desktop/DSSP/neural_matched_pursuit.ipynb#X13sZmlsZQ%3D%3D?line=21'>22</a>\u001b[0m selected_atom \u001b[39m=\u001b[39m \u001b[39mself\u001b[39m\u001b[39m.\u001b[39mdictionary[:, action]\n\u001b[0;32m     <a href='vscode-notebook-cell:/c%3A/Users/Fin%20Amin/Desktop/DSSP/neural_matched_pursuit.ipynb#X13sZmlsZQ%3D%3D?line=22'>23</a>\u001b[0m selected_atom_norm \u001b[39m=\u001b[39m np\u001b[39m.\u001b[39mlinalg\u001b[39m.\u001b[39mnorm(selected_atom)\u001b[39m*\u001b[39m\u001b[39m*\u001b[39m\u001b[39m2\u001b[39m\n\u001b[1;32m---> <a href='vscode-notebook-cell:/c%3A/Users/Fin%20Amin/Desktop/DSSP/neural_matched_pursuit.ipynb#X13sZmlsZQ%3D%3D?line=23'>24</a>\u001b[0m approximated_signal \u001b[39m=\u001b[39m np\u001b[39m.\u001b[39;49mdot(selected_atom\u001b[39m.\u001b[39;49mT, \u001b[39mself\u001b[39;49m\u001b[39m.\u001b[39;49mimage) \u001b[39m/\u001b[39m selected_atom_norm\n\u001b[0;32m     <a href='vscode-notebook-cell:/c%3A/Users/Fin%20Amin/Desktop/DSSP/neural_matched_pursuit.ipynb#X13sZmlsZQ%3D%3D?line=24'>25</a>\u001b[0m residual \u001b[39m=\u001b[39m \u001b[39mself\u001b[39m\u001b[39m.\u001b[39mimage \u001b[39m-\u001b[39m np\u001b[39m.\u001b[39mdot(selected_atom, approximated_signal)\n\u001b[0;32m     <a href='vscode-notebook-cell:/c%3A/Users/Fin%20Amin/Desktop/DSSP/neural_matched_pursuit.ipynb#X13sZmlsZQ%3D%3D?line=25'>26</a>\u001b[0m done \u001b[39m=\u001b[39m np\u001b[39m.\u001b[39mallclose(residual, np\u001b[39m.\u001b[39mzeros_like(residual))\n",
      "File \u001b[1;32m<__array_function__ internals>:5\u001b[0m, in \u001b[0;36mdot\u001b[1;34m(*args, **kwargs)\u001b[0m\n",
      "\u001b[1;31mValueError\u001b[0m: shapes (100,) and (64,) not aligned: 100 (dim 0) != 64 (dim 0)"
     ]
    }
   ],
   "source": [
    "\n",
    "# Define the RL agent\n",
    "def build_agent(env):\n",
    "    model = Sequential()\n",
    "    model.add(Flatten(input_shape=(1,) + env.observation_space.shape))\n",
    "    model.add(Dense(64))\n",
    "    model.add(Activation('relu'))\n",
    "    model.add(Dense(env.action_space.n))\n",
    "    model.add(Activation('linear'))\n",
    "    memory = SequentialMemory(limit=50000, window_length=1)\n",
    "    policy = BoltzmannQPolicy()\n",
    "    dqn = DQNAgent(model=model, nb_actions=env.action_space.n, memory=memory, nb_steps_warmup=10,\n",
    "                   target_model_update=1e-2, policy=policy)\n",
    "    dqn.compile(Adam(lr=1e-3), metrics=['mae'])\n",
    "    return dqn\n",
    "\n",
    "# Train the RL agent\n",
    "env = OMPEnvironment(dictionary, images[0])\n",
    "agent = build_agent(env)\n",
    "agent.fit(env, nb_steps=10000, visualize=False, verbose=2)\n",
    "\n",
    "# Modify the OMP function to use the RL agent\n",
    "def orthogonal_matching_pursuit_rl(dictionary, target_signal, sparsity, agent):\n",
    "    num_atoms = dictionary.shape[1]\n",
    "    selected_indices = []\n",
    "    approximated_signal = np.zeros(num_atoms)\n",
    "    residual = target_signal\n",
    "\n",
    "    for _ in range(sparsity):\n",
    "        observation = np.zeros(num_atoms)\n",
    "        observation[selected_indices] = 1\n",
    "        action = agent.forward(observation)\n",
    "        correlations = np.abs(np.dot(dictionary.T, residual))\n",
    "        correlations[selected_indices] = 0  # Exclude already selected indices\n",
    "        # selected_index = np.argmax(correlations)\n",
    "        selected_index = action\n",
    "        selected_indices.append(selected_index)\n",
    "\n",
    "        selected_atom = dictionary[:, selected_index]\n",
    "        selected_atom_norm = np.linalg.norm(selected_atom)**2\n",
    "        approximated_signal[selected_index] += np.dot(selected_atom.T, target_signal) / selected_atom_norm\n",
    "\n",
    "        residual = target_signal - np.dot(dictionary[:, np.array(selected_indices)], approximated_signal[np.array(selected_indices)])\n",
    "\n",
    "    return approximated_signal, selected_indices\n",
    "\n",
    "# Perform OMP with RL on the dataset\n",
    "sparsity = 50  # Desired sparsity level\n",
    "ssim_scores = []\n",
    "for image in tqdm(images):\n",
    "    approximated_image, selected_indices = orthogonal_matching_pursuit_rl(dict_learner.components_.T, image, sparsity, agent)\n",
    "    reconstructed_image = np.dot(images.T[:, selected_indices], approximated_image[selected_indices])\n",
    "    ssim_score = ssim(image.reshape(8, 8), reconstructed_image.reshape(8, 8), data_range=16)\n",
    "    ssim_scores.append(ssim_score)\n",
    "\n",
    "# Calculate average SSIM\n",
    "average_ssim = np.mean(ssim_scores)\n",
    "\n",
    "print(\"Average SSIM:\", average_ssim)\n"
   ]
  },
  {
   "cell_type": "markdown",
   "metadata": {},
   "source": [
    "# old\n"
   ]
  },
  {
   "cell_type": "code",
   "execution_count": 5,
   "metadata": {},
   "outputs": [],
   "source": [
    "\n",
    "def orthogonal_matching_pursuit(dictionary, target_signal, sparsity):\n",
    "    num_atoms = dictionary.shape[1]\n",
    "    selected_indices = []\n",
    "    approximated_signal = np.zeros(num_atoms)\n",
    "    residual = target_signal\n",
    "\n",
    "    for _ in range(sparsity):\n",
    "        correlations = np.abs(np.dot(dictionary.T, residual))\n",
    "        correlations[selected_indices] = 0  # Exclude already selected indices\n",
    "        selected_index = np.argmax(correlations)\n",
    "        selected_indices.append(selected_index)\n",
    "\n",
    "        selected_atom = dictionary[:, selected_index]\n",
    "        selected_atom_norm = np.linalg.norm(selected_atom)**2\n",
    "        approximated_signal[selected_index] += np.dot(selected_atom.T, target_signal) / selected_atom_norm\n",
    "\n",
    "        residual = target_signal - np.dot(dictionary[:, np.array(selected_indices)], approximated_signal[np.array(selected_indices)])\n",
    "\n",
    "    return approximated_signal, selected_indices\n"
   ]
  },
  {
   "cell_type": "code",
   "execution_count": 6,
   "metadata": {},
   "outputs": [],
   "source": [
    "\n",
    "\n",
    "# Load MNIST dataset\n",
    "digits = load_digits()  # Replace with appropriate code to load MNIST dataset\n",
    "images = digits.data\n"
   ]
  },
  {
   "cell_type": "code",
   "execution_count": 7,
   "metadata": {},
   "outputs": [
    {
     "data": {
      "text/plain": [
       "(1797, 64)"
      ]
     },
     "execution_count": 7,
     "metadata": {},
     "output_type": "execute_result"
    }
   ],
   "source": [
    "images.shape"
   ]
  },
  {
   "cell_type": "code",
   "execution_count": 8,
   "metadata": {},
   "outputs": [
    {
     "data": {
      "text/plain": [
       "<matplotlib.image.AxesImage at 0x7f94fe0de110>"
      ]
     },
     "execution_count": 8,
     "metadata": {},
     "output_type": "execute_result"
    },
    {
     "data": {
      "image/png": "[encoded data removed]",
      "text/plain": [
       "<Figure size 640x480 with 1 Axes>"
      ]
     },
     "metadata": {},
     "output_type": "display_data"
    }
   ],
   "source": [
    "plt.imshow(images[6].reshape(8,8))"
   ]
  },
  {
   "cell_type": "code",
   "execution_count": 27,
   "metadata": {},
   "outputs": [],
   "source": [
    "dict_learner = DictionaryLearning(\n",
    "    n_components=64,\n",
    "    fit_algorithm='cd',\n",
    "    transform_algorithm= 'omp', \n",
    "    random_state=0) \n"
   ]
  },
  {
   "cell_type": "code",
   "execution_count": 28,
   "metadata": {},
   "outputs": [
    {
     "data": {
      "text/plain": [
       "DictionaryLearning(fit_algorithm='cd', n_components=64, random_state=0)"
      ]
     },
     "execution_count": 28,
     "metadata": {},
     "output_type": "execute_result"
    }
   ],
   "source": [
    "dict_learner.fit(images[0:100])"
   ]
  },
  {
   "cell_type": "code",
   "execution_count": 32,
   "metadata": {},
   "outputs": [
    {
     "name": "stderr",
     "output_type": "stream",
     "text": [
      "100%|██████████| 1797/1797 [00:01<00:00, 1296.60it/s]"
     ]
    },
    {
     "name": "stdout",
     "output_type": "stream",
     "text": [
      "Average SSIM: 2.9224656938283083e-05\n"
     ]
    },
    {
     "name": "stderr",
     "output_type": "stream",
     "text": [
      "\n"
     ]
    }
   ],
   "source": [
    "ssim_scores = []\n",
    "\n",
    "for image in tqdm(images):\n",
    "    reconstructed_image = dict_learner.transform(image.reshape(1,-1)) \n",
    "    image = image.reshape(8,8) \n",
    "    reconstructed_image = reconstructed_image.reshape(8,8) \n",
    "    ssim_score = ssim(image, reconstructed_image, data_range=reconstructed_image.max() - reconstructed_image.min())\n",
    "    ssim_scores.append(ssim_score)\n",
    "\n",
    "# Calculate average SSIM\n",
    "average_ssim = np.mean(ssim_scores)\n",
    "\n",
    "print(\"Average SSIM:\", average_ssim)"
   ]
  },
  {
   "cell_type": "code",
   "execution_count": 33,
   "metadata": {},
   "outputs": [
    {
     "data": {
      "text/plain": [
       "<matplotlib.image.AxesImage at 0x19be48671c0>"
      ]
     },
     "execution_count": 33,
     "metadata": {},
     "output_type": "execute_result"
    },
    {
     "data": {
      "image/png": "[encoded data removed]",
      "text/plain": [
       "<Figure size 432x288 with 1 Axes>"
      ]
     },
     "metadata": {
      "needs_background": "light"
     },
     "output_type": "display_data"
    }
   ],
   "source": [
    "plt.imshow(reconstructed_image)"
   ]
  },
  {
   "cell_type": "code",
   "execution_count": 35,
   "metadata": {},
   "outputs": [
    {
     "name": "stderr",
     "output_type": "stream",
     "text": [
      "100%|██████████| 1797/1797 [00:03<00:00, 585.99it/s]"
     ]
    },
    {
     "name": "stdout",
     "output_type": "stream",
     "text": [
      "Average SSIM: 0.00012126993999819036\n"
     ]
    },
    {
     "name": "stderr",
     "output_type": "stream",
     "text": [
      "\n"
     ]
    }
   ],
   "source": [
    "\n",
    "# OMP parameters\n",
    "sparsity = 50  # Desired sparsity level\n",
    "\n",
    "# Perform OMP on each image\n",
    "ssim_scores = []\n",
    "for image in tqdm(images):\n",
    "    approximated_image, selected_indices = orthogonal_matching_pursuit(dict_learner.components_.T, image, sparsity)\n",
    "    reconstructed_image = np.dot(images.T[:, selected_indices], approximated_image[selected_indices])\n",
    "    reconstructed_image = reconstructed_image.reshape(8,8) \n",
    "    image = image.reshape(8,8) \n",
    "    ssim_score = ssim(image, reconstructed_image, data_range=reconstructed_image.max() - reconstructed_image.min())\n",
    "    ssim_scores.append(ssim_score)\n",
    "\n",
    "# Calculate average SSIM\n",
    "average_ssim = np.mean(ssim_scores)\n",
    "\n",
    "print(\"Average SSIM:\", average_ssim)\n"
   ]
  },
  {
   "cell_type": "code",
   "execution_count": 20,
   "metadata": {},
   "outputs": [
    {
     "data": {
      "text/plain": [
       "(1797, 64)"
      ]
     },
     "execution_count": 20,
     "metadata": {},
     "output_type": "execute_result"
    }
   ],
   "source": [
    "images.shape"
   ]
  },
  {
   "cell_type": "code",
   "execution_count": 6,
   "metadata": {},
   "outputs": [
    {
     "data": {
      "text/plain": [
       "array([[0],\n",
       "       [1],\n",
       "       [2],\n",
       "       ...,\n",
       "       [8],\n",
       "       [9],\n",
       "       [8]])"
      ]
     },
     "execution_count": 6,
     "metadata": {},
     "output_type": "execute_result"
    }
   ],
   "source": [
    "labels_reshaped"
   ]
  },
  {
   "cell_type": "code",
   "execution_count": 7,
   "metadata": {},
   "outputs": [
    {
     "data": {
      "text/plain": [
       "array([[    0,  -434,  1140, ...,  1764, -2952,  -520],\n",
       "       [    0,   290,  -759, ..., -1166,  1976,   348],\n",
       "       [    0,   126,  -329, ...,  -493,   864,   151],\n",
       "       ...,\n",
       "       [    0,   171,  -445, ...,  -686,  1161,   205],\n",
       "       [    0,   -86,   228, ...,   361,  -589,  -104],\n",
       "       [    0,  2671,  6151, ...,  5266,  1101,  -207]])"
      ]
     },
     "execution_count": 7,
     "metadata": {},
     "output_type": "execute_result"
    }
   ],
   "source": [
    "predicted_labels"
   ]
  },
  {
   "cell_type": "code",
   "execution_count": null,
   "metadata": {},
   "outputs": [],
   "source": []
  }
 ],
 "metadata": {
  "kernelspec": {
   "display_name": "base",
   "language": "python",
   "name": "python3"
  },
  "language_info": {
   "codemirror_mode": {
    "name": "ipython",
    "version": 3
   },
   "file_extension": ".py",
   "mimetype": "text/x-python",
   "name": "python",
   "nbconvert_exporter": "python",
   "pygments_lexer": "ipython3",
   "version": "3.9.12"
  },
  "orig_nbformat": 4
 },
 "nbformat": 4,
 "nbformat_minor": 2
}
